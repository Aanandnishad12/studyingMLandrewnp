{
 "cells": [
  {
   "cell_type": "code",
   "execution_count": null,
   "metadata": {},
   "outputs": [],
   "source": [
    "import numpy as np\n",
    "import pandas as pd\n",
    "def compute_gradient(w,b,x_train,y_train):\n",
    "    for i in range(len(x_train)):\n",
    "        f_w = w*x_train[i] + b\n",
    "        new = f_w-y_train[i]\n",
    "        new = new*x_train[i]\n",
    "        f_b = w*x_train[i] + b\n",
    "        new1 = f_b-y_train[i]\n",
    "    return new/len(x_train), new1/len(x_train)\n",
    "\n",
    "\n",
    "\n",
    "\n",
    "def cost_fintion(w,b,x_train,y_train):\n",
    "    for i in range(len(x_train)):\n",
    "\n",
    "        f_wb = w*x_train[i] + b\n",
    "        f_wd = f_wb-y_train[i]\n",
    "        fw = f_wd**2\n",
    "    return fw/len(x_train)\n",
    "\n",
    "\n",
    "iteration = 10000\n",
    "x_train = np.array([1.0, 2.0])   #features\n",
    "y_train = np.array([300.0, 500.0]) \n",
    "alpha = 0.01\n",
    "w = 0\n",
    "b = 0\n",
    "\n",
    "for i in range(iteration):\n",
    "    f_w,f_b = compute_gradient(w,b,x_train,y_train)\n",
    "    print(cost_fintion(w,b,x_train,y_train))\n",
    "    w = w-alpha*f_w\n",
    "    b = b-alpha*f_b\n",
    "\n",
    "print(w*1+b)\n",
    "print(w*2+b)\n",
    "\n"
   ]
  },
  {
   "cell_type": "code",
   "execution_count": null,
   "metadata": {},
   "outputs": [],
   "source": []
  },
  {
   "cell_type": "code",
   "execution_count": null,
   "metadata": {},
   "outputs": [],
   "source": []
  },
  {
   "cell_type": "code",
   "execution_count": null,
   "metadata": {},
   "outputs": [],
   "source": []
  }
 ],
 "metadata": {
  "kernelspec": {
   "display_name": "Python 3.7.6 ('base')",
   "language": "python",
   "name": "python3"
  },
  "language_info": {
   "codemirror_mode": {
    "name": "ipython",
    "version": 3
   },
   "file_extension": ".py",
   "mimetype": "text/x-python",
   "name": "python",
   "nbconvert_exporter": "python",
   "pygments_lexer": "ipython3",
   "version": "3.7.6"
  },
  "orig_nbformat": 4,
  "vscode": {
   "interpreter": {
    "hash": "94c9c2e95ec3d474548fdf5570e88189aea00269a8ad050d09413ba495a47d7a"
   }
  }
 },
 "nbformat": 4,
 "nbformat_minor": 2
}
